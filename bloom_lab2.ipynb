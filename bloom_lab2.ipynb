{
  "nbformat": 4,
  "nbformat_minor": 0,
  "metadata": {
    "colab": {
      "provenance": [],
      "collapsed_sections": [
        "kPC703st4mGL",
        "0QPivYdB5mGF",
        "-ctnEZFy8SwA",
        "7TGpNXFRAzH7",
        "2_5oryJ4CdYl"
      ],
      "authorship_tag": "ABX9TyOF14H26esrwKU8Qu2SWMp8",
      "include_colab_link": true
    },
    "kernelspec": {
      "name": "python3",
      "display_name": "Python 3"
    },
    "language_info": {
      "name": "python"
    }
  },
  "cells": [
    {
      "cell_type": "markdown",
      "metadata": {
        "id": "view-in-github",
        "colab_type": "text"
      },
      "source": [
        "<a href=\"https://colab.research.google.com/github/maefl0wer/Statistics2022/blob/main/bloom_lab2.ipynb\" target=\"_parent\"><img src=\"https://colab.research.google.com/assets/colab-badge.svg\" alt=\"Open In Colab\"/></a>"
      ]
    },
    {
      "cell_type": "markdown",
      "source": [
        "#Imports"
      ],
      "metadata": {
        "id": "kPC703st4mGL"
      }
    },
    {
      "cell_type": "code",
      "execution_count": 1,
      "metadata": {
        "id": "ZZ7HwZJxxEda",
        "colab": {
          "base_uri": "https://localhost:8080/",
          "height": 317
        },
        "outputId": "d0b5bfb2-5150-436b-8644-9cd761e28e44"
      },
      "outputs": [
        {
          "output_type": "execute_result",
          "data": {
            "text/plain": [
              "(-1.2142507666786346,\n",
              " 1.134711077927507,\n",
              " -1.1258468317413044,\n",
              " 1.101230806657754)"
            ]
          },
          "metadata": {},
          "execution_count": 1
        },
        {
          "output_type": "display_data",
          "data": {
            "text/plain": [
              "<Figure size 432x288 with 1 Axes>"
            ],
            "image/png": "[encoded data removed]"
          },
          "metadata": {}
        }
      ],
      "source": [
        "import matplotlib.pyplot as plt\n",
        "\n",
        "\n",
        "labels = ['frogs', 'dogs', 'cats', 'birds']\n",
        "#defining the variable names\n",
        "\n",
        "sizes = [15, 30, 45, 10]\n",
        "\n",
        "explode = (0, 0.1, 0, 0)\n",
        "\n",
        "fig1, ax1 = plt.subplots ()\n",
        "ax1.pie (sizes, \n",
        "         explode=explode, \n",
        "         labels=labels, \n",
        "         autopct='%1.1f%%', \n",
        "         shadow=True, \n",
        "         startangle=90)\n",
        "\n",
        "ax1.axis ('equal')"
      ]
    },
    {
      "cell_type": "code",
      "source": [
        "name = 'mae'\n",
        "#making strings"
      ],
      "metadata": {
        "id": "FbeEpXBo1qDC"
      },
      "execution_count": 2,
      "outputs": []
    },
    {
      "cell_type": "code",
      "source": [
        "name"
      ],
      "metadata": {
        "colab": {
          "base_uri": "https://localhost:8080/",
          "height": 35
        },
        "id": "6p0Fd1VT5LXa",
        "outputId": "641303d4-6786-40b9-b3c6-08c0f1b62ff0"
      },
      "execution_count": 3,
      "outputs": [
        {
          "output_type": "execute_result",
          "data": {
            "text/plain": [
              "'mae'"
            ],
            "application/vnd.google.colaboratory.intrinsic+json": {
              "type": "string"
            }
          },
          "metadata": {},
          "execution_count": 3
        }
      ]
    },
    {
      "cell_type": "code",
      "source": [
        "f\"hello my name is {name}\"\n",
        "#this is an f-string. use it to define variables. the curly brackets are giving a wildcard variable"
      ],
      "metadata": {
        "colab": {
          "base_uri": "https://localhost:8080/",
          "height": 35
        },
        "id": "Uhkm5K-h5NIS",
        "outputId": "7bea4eec-1a9d-4d78-aea0-a57478316585"
      },
      "execution_count": 4,
      "outputs": [
        {
          "output_type": "execute_result",
          "data": {
            "text/plain": [
              "'hello my name is mae'"
            ],
            "application/vnd.google.colaboratory.intrinsic+json": {
              "type": "string"
            }
          },
          "metadata": {},
          "execution_count": 4
        }
      ]
    },
    {
      "cell_type": "code",
      "source": [],
      "metadata": {
        "id": "RwjbXSwq5Tjw"
      },
      "execution_count": 4,
      "outputs": []
    },
    {
      "cell_type": "markdown",
      "source": [
        "#Files"
      ],
      "metadata": {
        "id": "0QPivYdB5mGF"
      }
    },
    {
      "cell_type": "code",
      "source": [
        "f = open(\"hello.txt\", 'w')\n",
        "#w makes a new file if it doesnt exsist\n",
        "\n",
        "data = \"hello world\"\n",
        "\n",
        "print(data, file = f)\n",
        "\n",
        "f.close()\n",
        "#closes the file after\n",
        "\n",
        "#open the files tab and there is a new one called \"hello.txt\" that has \"hello world\" typed into it"
      ],
      "metadata": {
        "id": "UwsTpzOB5Tod"
      },
      "execution_count": null,
      "outputs": []
    },
    {
      "cell_type": "code",
      "source": [
        "f = open(\"hello2.txt\", 'w')\n",
        "#creating new file with new text\n",
        "\n",
        "name = \"mae\"\n",
        "#setting a variable\n",
        "\n",
        "data = f\"hello {name}\"\n",
        "\n",
        "print(data, file = f)\n",
        "\n",
        "f.close ()"
      ],
      "metadata": {
        "id": "x6j_mHEA5Tq2"
      },
      "execution_count": null,
      "outputs": []
    },
    {
      "cell_type": "code",
      "source": [
        "f = open(\"hello.txt\", 'r')\n",
        "#r is to read the entered text\n",
        "\n",
        "lines = f.readlines()\n",
        "\n",
        "print(lines)\n",
        "\n",
        "f.close()"
      ],
      "metadata": {
        "colab": {
          "base_uri": "https://localhost:8080/"
        },
        "id": "P7M8KIvf7LRa",
        "outputId": "86922ba2-4147-4b9a-b696-ac6fbf5338ff"
      },
      "execution_count": null,
      "outputs": [
        {
          "output_type": "stream",
          "name": "stdout",
          "text": [
            "['hello world\\n']\n"
          ]
        }
      ]
    },
    {
      "cell_type": "markdown",
      "source": [
        "# Coin FLip"
      ],
      "metadata": {
        "id": "-ctnEZFy8SwA"
      }
    },
    {
      "cell_type": "code",
      "source": [
        "import numpy as np"
      ],
      "metadata": {
        "id": "7cAnDmTL8Q-s"
      },
      "execution_count": null,
      "outputs": []
    },
    {
      "cell_type": "code",
      "source": [
        "np.random.random()\n",
        "# will give a different value every time you run it, just picking random number values"
      ],
      "metadata": {
        "colab": {
          "base_uri": "https://localhost:8080/"
        },
        "id": "y4it-GhW8RDG",
        "outputId": "c920022a-a0a5-4c31-8dbf-184a06527088"
      },
      "execution_count": null,
      "outputs": [
        {
          "output_type": "execute_result",
          "data": {
            "text/plain": [
              "0.5435638042415359"
            ]
          },
          "metadata": {},
          "execution_count": 26
        }
      ]
    },
    {
      "cell_type": "code",
      "source": [
        "for index in range(10):\n",
        "    print(index)\n",
        "#gives the first range of 10 numbers"
      ],
      "metadata": {
        "colab": {
          "base_uri": "https://localhost:8080/"
        },
        "id": "Af8yfubW8RFY",
        "outputId": "7401dcc0-b93d-47a4-db5d-c2c0890b90da"
      },
      "execution_count": null,
      "outputs": [
        {
          "output_type": "stream",
          "name": "stdout",
          "text": [
            "0\n",
            "1\n",
            "2\n",
            "3\n",
            "4\n",
            "5\n",
            "6\n",
            "7\n",
            "8\n",
            "9\n"
          ]
        }
      ]
    },
    {
      "cell_type": "code",
      "source": [
        "for index in range(10):\n",
        "    print(index, np.random.random ())\n",
        "  #gives a random range of 10 numbers"
      ],
      "metadata": {
        "colab": {
          "base_uri": "https://localhost:8080/"
        },
        "id": "CcyD8ycg8poA",
        "outputId": "9f849bc8-99f7-49e0-f2cc-35211df2dbb6"
      },
      "execution_count": null,
      "outputs": [
        {
          "output_type": "stream",
          "name": "stdout",
          "text": [
            "0 0.9792209938244744\n",
            "1 0.3292271002421975\n",
            "2 0.2407661051491552\n",
            "3 0.9332206269229322\n",
            "4 0.5401938240723702\n",
            "5 0.6433656159437293\n",
            "6 0.9158442387255273\n",
            "7 0.6705120737506192\n",
            "8 0.1907402799246264\n",
            "9 0.033353556132707185\n"
          ]
        }
      ]
    },
    {
      "cell_type": "code",
      "source": [
        "for i in range(10):\n",
        "    print(i, np.random.random ())\n",
        "#same as above but index is now defined as \"i\""
      ],
      "metadata": {
        "colab": {
          "base_uri": "https://localhost:8080/"
        },
        "id": "lE5Gl15e8psy",
        "outputId": "ed82a5aa-12d2-4167-9cce-0ff3ecd32b02"
      },
      "execution_count": null,
      "outputs": [
        {
          "output_type": "stream",
          "name": "stdout",
          "text": [
            "0 0.519406142082631\n",
            "1 0.4265425194808343\n",
            "2 0.236681820751793\n",
            "3 0.09848380432849879\n",
            "4 0.2796105452435086\n",
            "5 0.9741519480485812\n",
            "6 0.3939230509573788\n",
            "7 0.7880289508255\n",
            "8 0.9395576684102218\n",
            "9 0.4187782997260936\n"
          ]
        }
      ]
    },
    {
      "cell_type": "code",
      "source": [
        "for step in range(10):\n",
        "  print(step, \"hello, your number is: \", np.random.random())"
      ],
      "metadata": {
        "colab": {
          "base_uri": "https://localhost:8080/"
        },
        "id": "ciah9d3s8RS5",
        "outputId": "d792b17a-ff5d-4631-c5db-0722c5298988"
      },
      "execution_count": null,
      "outputs": [
        {
          "output_type": "stream",
          "name": "stdout",
          "text": [
            "0 hello, your number is:  0.6955209908032817\n",
            "1 hello, your number is:  0.384465367078728\n",
            "2 hello, your number is:  0.3981765080320928\n",
            "3 hello, your number is:  0.11700468497680117\n",
            "4 hello, your number is:  0.007114812729133391\n",
            "5 hello, your number is:  0.4263595563508453\n",
            "6 hello, your number is:  0.29990089085305904\n",
            "7 hello, your number is:  0.8173658752306776\n",
            "8 hello, your number is:  0.270510905784794\n",
            "9 hello, your number is:  0.3255429185519624\n"
          ]
        }
      ]
    },
    {
      "cell_type": "code",
      "source": [
        "np.random.randint (2)\n",
        "#tells it to make up a whole number up to but not including the number given in parenthesis"
      ],
      "metadata": {
        "colab": {
          "base_uri": "https://localhost:8080/"
        },
        "id": "f4qlreoz50CF",
        "outputId": "ddadf2d2-343c-42da-92dd-b0c2e07ac036"
      },
      "execution_count": null,
      "outputs": [
        {
          "output_type": "execute_result",
          "data": {
            "text/plain": [
              "1"
            ]
          },
          "metadata": {},
          "execution_count": 44
        }
      ]
    },
    {
      "cell_type": "code",
      "source": [
        "np.random.randint (10)"
      ],
      "metadata": {
        "colab": {
          "base_uri": "https://localhost:8080/"
        },
        "id": "f2K4FXVi6Gho",
        "outputId": "ee94c4e2-aa9f-4452-c740-3fff18707685"
      },
      "execution_count": null,
      "outputs": [
        {
          "output_type": "execute_result",
          "data": {
            "text/plain": [
              "9"
            ]
          },
          "metadata": {},
          "execution_count": 49
        }
      ]
    },
    {
      "cell_type": "code",
      "source": [
        "for i in range (10):\n",
        "  print (np.random.randint (6))\n",
        "#gives you 10 integers in the range of 0-6 but not including 6"
      ],
      "metadata": {
        "colab": {
          "base_uri": "https://localhost:8080/"
        },
        "id": "d1tV5SQg6WqR",
        "outputId": "c924d799-848c-439d-c02c-b76487dffc0d"
      },
      "execution_count": null,
      "outputs": [
        {
          "output_type": "stream",
          "name": "stdout",
          "text": [
            "1\n",
            "3\n",
            "3\n",
            "0\n",
            "3\n",
            "2\n",
            "0\n",
            "2\n",
            "0\n",
            "5\n"
          ]
        }
      ]
    },
    {
      "cell_type": "code",
      "source": [
        "np.random.random ()\n",
        "#will print a random number"
      ],
      "metadata": {
        "colab": {
          "base_uri": "https://localhost:8080/"
        },
        "id": "yzXaFLjx-KaL",
        "outputId": "1d67811d-d62b-445f-f0a8-8d24954d9bef"
      },
      "execution_count": null,
      "outputs": [
        {
          "output_type": "execute_result",
          "data": {
            "text/plain": [
              "0.99306461030962"
            ]
          },
          "metadata": {},
          "execution_count": 31
        }
      ]
    },
    {
      "cell_type": "code",
      "source": [
        "np.random.random () > 0.5\n",
        "#making it a true or false statement. True is greater then .5"
      ],
      "metadata": {
        "colab": {
          "base_uri": "https://localhost:8080/"
        },
        "id": "QAUwfRJg-MtG",
        "outputId": "fe99abfe-445f-4da0-e137-3373568c8d6c"
      },
      "execution_count": null,
      "outputs": [
        {
          "output_type": "execute_result",
          "data": {
            "text/plain": [
              "False"
            ]
          },
          "metadata": {},
          "execution_count": 32
        }
      ]
    },
    {
      "cell_type": "code",
      "source": [
        "np.random.random () > 0.5\n",
        "#here, it is falso so the number is less than .5"
      ],
      "metadata": {
        "colab": {
          "base_uri": "https://localhost:8080/"
        },
        "id": "qr3Qgxn3-Mxd",
        "outputId": "5ace4baa-b8f3-406f-e270-f6a75dd88858"
      },
      "execution_count": null,
      "outputs": [
        {
          "output_type": "execute_result",
          "data": {
            "text/plain": [
              "True"
            ]
          },
          "metadata": {},
          "execution_count": 33
        }
      ]
    },
    {
      "cell_type": "code",
      "source": [
        "for flip in range(10):\n",
        "  print(np.random.random () > 0.5)\n",
        "#printing a sequence of true or false statements based off of whether the number is greater than or less than 0.5"
      ],
      "metadata": {
        "colab": {
          "base_uri": "https://localhost:8080/"
        },
        "id": "PybN2SD3-M0P",
        "outputId": "040cc2fd-a677-4a1d-fd33-3c6e5845f8e6"
      },
      "execution_count": null,
      "outputs": [
        {
          "output_type": "stream",
          "name": "stdout",
          "text": [
            "False\n",
            "True\n",
            "True\n",
            "True\n",
            "False\n",
            "False\n",
            "True\n",
            "True\n",
            "False\n",
            "False\n"
          ]
        }
      ]
    },
    {
      "cell_type": "code",
      "source": [
        "for flip in range(10):\n",
        "  coin = (np.random.random () > 0.5)\n",
        "  if coin == True:\n",
        "    print(\"heads\")\n",
        "  else:\n",
        "    print(\"tails\")\n",
        "#got rid of print command and defined \"coin\" as a variable, then made an if, else variable branch"
      ],
      "metadata": {
        "colab": {
          "base_uri": "https://localhost:8080/"
        },
        "id": "-bBk7hDm-M2q",
        "outputId": "1dfc7079-f683-405e-9da6-0464078b6873"
      },
      "execution_count": null,
      "outputs": [
        {
          "output_type": "stream",
          "name": "stdout",
          "text": [
            "tails\n",
            "tails\n",
            "tails\n",
            "tails\n",
            "heads\n",
            "tails\n",
            "heads\n",
            "heads\n",
            "heads\n",
            "heads\n"
          ]
        }
      ]
    },
    {
      "cell_type": "code",
      "source": [],
      "metadata": {
        "id": "-Rwk6mN4-M40"
      },
      "execution_count": null,
      "outputs": []
    },
    {
      "cell_type": "markdown",
      "source": [
        "# Functions"
      ],
      "metadata": {
        "id": "7TGpNXFRAzH7"
      }
    },
    {
      "cell_type": "code",
      "source": [
        "def flip_coin():\n",
        "  coin = (np.random.random () > 0.5)\n",
        "  if coin == True:\n",
        "    print(\"heads\")\n",
        "  else:\n",
        "      print(\"tails\")\n",
        "#define, then add parenthesis after verbs"
      ],
      "metadata": {
        "id": "Nu4CT-ycAwiv"
      },
      "execution_count": null,
      "outputs": []
    },
    {
      "cell_type": "code",
      "source": [
        "flip_coin()\n",
        "#runs the funtion and will give you heads or tails"
      ],
      "metadata": {
        "colab": {
          "base_uri": "https://localhost:8080/"
        },
        "id": "ILeNcU59AwnK",
        "outputId": "a18d57ca-0f32-43da-bb8f-dc06be13f0f4"
      },
      "execution_count": null,
      "outputs": [
        {
          "output_type": "stream",
          "name": "stdout",
          "text": [
            "tails\n"
          ]
        }
      ]
    },
    {
      "cell_type": "code",
      "source": [
        "flip_coin()"
      ],
      "metadata": {
        "colab": {
          "base_uri": "https://localhost:8080/"
        },
        "id": "GLNvJhEBBER9",
        "outputId": "84e4075e-2d57-488e-9465-5a55f270291d"
      },
      "execution_count": null,
      "outputs": [
        {
          "output_type": "stream",
          "name": "stdout",
          "text": [
            "heads\n"
          ]
        }
      ]
    },
    {
      "cell_type": "code",
      "source": [
        "for i in range(10):\n",
        "  flip_coin()\n",
        "#flips it 10 times"
      ],
      "metadata": {
        "colab": {
          "base_uri": "https://localhost:8080/"
        },
        "id": "5yUDZlfxBEXA",
        "outputId": "712bb0dd-9adf-4132-c527-b01db497cc96"
      },
      "execution_count": null,
      "outputs": [
        {
          "output_type": "stream",
          "name": "stdout",
          "text": [
            "tails\n",
            "heads\n",
            "heads\n",
            "tails\n",
            "tails\n",
            "heads\n",
            "heads\n",
            "tails\n",
            "heads\n",
            "heads\n"
          ]
        }
      ]
    },
    {
      "cell_type": "markdown",
      "source": [
        "# Graphics"
      ],
      "metadata": {
        "id": "2_5oryJ4CdYl"
      }
    },
    {
      "cell_type": "code",
      "source": [
        "from IPython.core.display import display, HTML"
      ],
      "metadata": {
        "id": "0SfKFlvICe1C"
      },
      "execution_count": null,
      "outputs": []
    },
    {
      "cell_type": "code",
      "source": [
        "display(HTML('<h1>hello world</h1>'))"
      ],
      "metadata": {
        "colab": {
          "base_uri": "https://localhost:8080/",
          "height": 74
        },
        "id": "VYBHHaKDCkcz",
        "outputId": "668bac5e-d2de-47f0-82b4-b3ee79eb44b5"
      },
      "execution_count": null,
      "outputs": [
        {
          "output_type": "display_data",
          "data": {
            "text/plain": [
              "<IPython.core.display.HTML object>"
            ],
            "text/html": [
              "<h1>hello world</h1>"
            ]
          },
          "metadata": {}
        }
      ]
    },
    {
      "cell_type": "code",
      "source": [
        "display(HTML('<img src=\"https://i5.walmartimages.com/asr/3850a9da-7ed7-4bbd-915a-3a8e38e0195a_1.83cc29729d27461002ccd2748d4a3a5f.jpeg\">'))\n",
        "#displaying images to fit with our coin flip simulation"
      ],
      "metadata": {
        "colab": {
          "base_uri": "https://localhost:8080/",
          "height": 1000
        },
        "id": "Ln4NEgWZDipo",
        "outputId": "00302d96-8cd0-4413-d133-7cf4bc5225ac"
      },
      "execution_count": null,
      "outputs": [
        {
          "output_type": "display_data",
          "data": {
            "text/plain": [
              "<IPython.core.display.HTML object>"
            ],
            "text/html": [
              "<img src=\"https://i5.walmartimages.com/asr/3850a9da-7ed7-4bbd-915a-3a8e38e0195a_1.83cc29729d27461002ccd2748d4a3a5f.jpeg\">"
            ]
          },
          "metadata": {}
        }
      ]
    },
    {
      "cell_type": "code",
      "source": [
        "display(HTML('<img src=\"https://m.media-amazon.com/images/I/51bcZy+HZpL._AC_.jpg\">'))"
      ],
      "metadata": {
        "colab": {
          "base_uri": "https://localhost:8080/",
          "height": 317
        },
        "id": "2eiqgR-TEa4q",
        "outputId": "61c6f986-c123-4b92-8264-aa6a4361cccf"
      },
      "execution_count": null,
      "outputs": [
        {
          "output_type": "display_data",
          "data": {
            "text/plain": [
              "<IPython.core.display.HTML object>"
            ],
            "text/html": [
              "<img src=\"https://m.media-amazon.com/images/I/51bcZy+HZpL._AC_.jpg\">"
            ]
          },
          "metadata": {}
        }
      ]
    },
    {
      "cell_type": "code",
      "source": [
        "coin_heads_url = \"https://i5.walmartimages.com/asr/3850a9da-7ed7-4bbd-915a-3a8e38e0195a_1.83cc29729d27461002ccd2748d4a3a5f.jpeg\""
      ],
      "metadata": {
        "id": "AmKbWeHVCkfl"
      },
      "execution_count": null,
      "outputs": []
    },
    {
      "cell_type": "code",
      "source": [
        "coin_tails_url = \"https://m.media-amazon.com/images/I/51bcZy+HZpL._AC_.jpg\""
      ],
      "metadata": {
        "id": "Ng0VlOYgCkhx"
      },
      "execution_count": null,
      "outputs": []
    },
    {
      "cell_type": "code",
      "source": [
        "heads = \"https://i5.walmartimages.com/asr/3850a9da-7ed7-4bbd-915a-3a8e38e0195a_1.83cc29729d27461002ccd2748d4a3a5f.jpeg\"\n",
        "tails = \"https://m.media-amazon.com/images/I/51bcZy+HZpL._AC_.jpg\"\n",
        "#defining heads and tails through pictures/links"
      ],
      "metadata": {
        "id": "IEFTZMQUItA9"
      },
      "execution_count": null,
      "outputs": []
    },
    {
      "cell_type": "code",
      "source": [
        "def show_img(img_url):\n",
        "  display(HTML('<img src =' + img_url + ' width = 100>'))\n",
        "#script for showing the image and defining the width"
      ],
      "metadata": {
        "id": "pM3OT4LTE2ju"
      },
      "execution_count": null,
      "outputs": []
    },
    {
      "cell_type": "code",
      "source": [
        "show_img(coin_tails_url)"
      ],
      "metadata": {
        "colab": {
          "base_uri": "https://localhost:8080/",
          "height": 120
        },
        "id": "I_XRpLbJFF_3",
        "outputId": "183bfe88-c694-44a2-dbfd-2e86a4ed09dc"
      },
      "execution_count": null,
      "outputs": [
        {
          "output_type": "display_data",
          "data": {
            "text/plain": [
              "<IPython.core.display.HTML object>"
            ],
            "text/html": [
              "<img src =https://m.media-amazon.com/images/I/51bcZy+HZpL._AC_.jpg width = 100>"
            ]
          },
          "metadata": {}
        }
      ]
    },
    {
      "cell_type": "code",
      "source": [
        "show_img(coin_heads_url)"
      ],
      "metadata": {
        "colab": {
          "base_uri": "https://localhost:8080/",
          "height": 121
        },
        "id": "CSn3E8LPFtbF",
        "outputId": "ecb3bc21-14e9-457f-8344-7c48299e1ff3"
      },
      "execution_count": null,
      "outputs": [
        {
          "output_type": "display_data",
          "data": {
            "text/plain": [
              "<IPython.core.display.HTML object>"
            ],
            "text/html": [
              "<img src =https://i5.walmartimages.com/asr/3850a9da-7ed7-4bbd-915a-3a8e38e0195a_1.83cc29729d27461002ccd2748d4a3a5f.jpeg width = 100>"
            ]
          },
          "metadata": {}
        }
      ]
    },
    {
      "cell_type": "code",
      "source": [
        "def show_img(img):\n",
        "  display(HTML('<img src=' + img + '>'))"
      ],
      "metadata": {
        "id": "PJO4WPGHIjx6"
      },
      "execution_count": null,
      "outputs": []
    },
    {
      "cell_type": "code",
      "source": [
        "def flip_coin():\n",
        "  if np.random.random() > 0.5:\n",
        "    show_img(heads)\n",
        "  else:\n",
        "    show_img(tails)\n",
        "#the flip coin script with an if else statement. if it flips and the number is less than .5, it will show heads. if it is greater than .5, it will show"
      ],
      "metadata": {
        "id": "Nno_3x5VH_0u"
      },
      "execution_count": null,
      "outputs": []
    },
    {
      "cell_type": "code",
      "source": [
        "flip_coin()\n",
        "#running the code for flipping coin (must run line 91 immediately before for image to show)"
      ],
      "metadata": {
        "colab": {
          "base_uri": "https://localhost:8080/",
          "height": 121
        },
        "id": "R4fu8uiiIQDU",
        "outputId": "1ac591b9-22fa-4a65-a866-e100c62dba60"
      },
      "execution_count": null,
      "outputs": [
        {
          "output_type": "display_data",
          "data": {
            "text/plain": [
              "<IPython.core.display.HTML object>"
            ],
            "text/html": [
              "<img src =https://i5.walmartimages.com/asr/3850a9da-7ed7-4bbd-915a-3a8e38e0195a_1.83cc29729d27461002ccd2748d4a3a5f.jpeg width = 100>"
            ]
          },
          "metadata": {}
        }
      ]
    },
    {
      "cell_type": "code",
      "source": [
        "for i in range(5):\n",
        "    flip_coin()\n",
        "#will flip coin 5 times and print each"
      ],
      "metadata": {
        "colab": {
          "base_uri": "https://localhost:8080/",
          "height": 533
        },
        "id": "exp75b788Hrb",
        "outputId": "77f11f26-fd87-47d2-ccf5-198ccc00b3db"
      },
      "execution_count": null,
      "outputs": [
        {
          "output_type": "display_data",
          "data": {
            "text/plain": [
              "<IPython.core.display.HTML object>"
            ],
            "text/html": [
              "<img src =https://m.media-amazon.com/images/I/51bcZy+HZpL._AC_.jpg width = 100>"
            ]
          },
          "metadata": {}
        },
        {
          "output_type": "display_data",
          "data": {
            "text/plain": [
              "<IPython.core.display.HTML object>"
            ],
            "text/html": [
              "<img src =https://m.media-amazon.com/images/I/51bcZy+HZpL._AC_.jpg width = 100>"
            ]
          },
          "metadata": {}
        },
        {
          "output_type": "display_data",
          "data": {
            "text/plain": [
              "<IPython.core.display.HTML object>"
            ],
            "text/html": [
              "<img src =https://m.media-amazon.com/images/I/51bcZy+HZpL._AC_.jpg width = 100>"
            ]
          },
          "metadata": {}
        },
        {
          "output_type": "display_data",
          "data": {
            "text/plain": [
              "<IPython.core.display.HTML object>"
            ],
            "text/html": [
              "<img src =https://m.media-amazon.com/images/I/51bcZy+HZpL._AC_.jpg width = 100>"
            ]
          },
          "metadata": {}
        },
        {
          "output_type": "display_data",
          "data": {
            "text/plain": [
              "<IPython.core.display.HTML object>"
            ],
            "text/html": [
              "<img src =https://i5.walmartimages.com/asr/3850a9da-7ed7-4bbd-915a-3a8e38e0195a_1.83cc29729d27461002ccd2748d4a3a5f.jpeg width = 100>"
            ]
          },
          "metadata": {}
        }
      ]
    },
    {
      "cell_type": "code",
      "source": [
        "def coin():\n",
        "  return np.random.randint(2)"
      ],
      "metadata": {
        "id": "41RqEeke9kFc"
      },
      "execution_count": null,
      "outputs": []
    },
    {
      "cell_type": "code",
      "source": [
        "def flip_coin():\n",
        "  result = coin()\n",
        "  print(result)\n",
        "  if result == 1 :\n",
        "    show_img(heads)\n",
        "  else:\n",
        "     show_img(tails)\n"
      ],
      "metadata": {
        "id": "VqOFN8fv9qFp"
      },
      "execution_count": null,
      "outputs": []
    },
    {
      "cell_type": "code",
      "source": [
        "flip_coin ()"
      ],
      "metadata": {
        "colab": {
          "base_uri": "https://localhost:8080/",
          "height": 139
        },
        "id": "OmlL0ZPN-G8M",
        "outputId": "57b11cb5-9708-49fe-9a0e-76b9458d4843"
      },
      "execution_count": null,
      "outputs": [
        {
          "output_type": "stream",
          "name": "stdout",
          "text": [
            "1\n"
          ]
        },
        {
          "output_type": "display_data",
          "data": {
            "text/plain": [
              "<IPython.core.display.HTML object>"
            ],
            "text/html": [
              "<img src =https://i5.walmartimages.com/asr/3850a9da-7ed7-4bbd-915a-3a8e38e0195a_1.83cc29729d27461002ccd2748d4a3a5f.jpeg width = 100>"
            ]
          },
          "metadata": {}
        }
      ]
    }
  ]
}