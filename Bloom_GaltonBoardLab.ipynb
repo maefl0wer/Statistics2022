{
  "nbformat": 4,
  "nbformat_minor": 0,
  "metadata": {
    "colab": {
      "provenance": [],
      "include_colab_link": true
    },
    "kernelspec": {
      "name": "python3",
      "display_name": "Python 3"
    }
  },
  "cells": [
    {
      "cell_type": "markdown",
      "metadata": {
        "id": "view-in-github",
        "colab_type": "text"
      },
      "source": [
        "<a href=\"https://colab.research.google.com/github/maefl0wer/Statistics2022/blob/main/Bloom_GaltonBoardLab.ipynb\" target=\"_parent\"><img src=\"https://colab.research.google.com/assets/colab-badge.svg\" alt=\"Open In Colab\"/></a>"
      ]
    },
    {
      "cell_type": "markdown",
      "source": [
        "#Galton Board Lab"
      ],
      "metadata": {
        "id": "F7Kkw511nL1F"
      }
    },
    {
      "metadata": {
        "id": "JiZpI9wDbh75"
      },
      "cell_type": "markdown",
      "source": [
        "![alt text](https://www.physlab.org/wp-content/uploads/2016/03/Galton_Board_5.jpeg)"
      ]
    },
    {
      "cell_type": "code",
      "source": [
        "import numpy as np \n",
        "import matplotlib.pyplot as plt\n",
        "#importing both systems we need to use numbers and plots"
      ],
      "metadata": {
        "id": "CpvjnOHwfu4g"
      },
      "execution_count": null,
      "outputs": []
    },
    {
      "cell_type": "markdown",
      "source": [
        "$2*(np.random.random() > 0.5) - 1$ is basically telling the computer to give us a random number between 0 and 1, and the parentheses ask if the random number is greater than 0.5, so we end up with either $2x1-1$ or $2x0-$1, or 1 or -1. this is basically just a coin flip function with 1 being true and 0 being false in a boolean"
      ],
      "metadata": {
        "id": "JrjRlWrbEqMq"
      }
    },
    {
      "cell_type": "code",
      "source": [
        "def coin(): #defining the coin variable\n",
        "    return 2*(np.random.random() > 0.5) - 1 "
      ],
      "metadata": {
        "id": "3DKoK_RLfvmu"
      },
      "execution_count": null,
      "outputs": []
    },
    {
      "cell_type": "code",
      "source": [
        "coin() #just showing the coin toss function"
      ],
      "metadata": {
        "id": "upVKpqKamKIO",
        "colab": {
          "base_uri": "https://localhost:8080/"
        },
        "outputId": "366e8054-c197-487b-821f-8d1eb5beb369"
      },
      "execution_count": null,
      "outputs": [
        {
          "output_type": "execute_result",
          "data": {
            "text/plain": [
              "-1"
            ]
          },
          "metadata": {},
          "execution_count": 3
        }
      ]
    },
    {
      "cell_type": "code",
      "source": [
        "x = 0 #defines the value of 0 to the variable \"x\"\n",
        "x + coin() #then adds the coin toss function to it. since the coin toss was -1, \"x\" becomes -1"
      ],
      "metadata": {
        "colab": {
          "base_uri": "https://localhost:8080/"
        },
        "id": "_Tpo3k_Rfvkm",
        "outputId": "41fca1d9-8616-4fbe-e1d1-6d3f6ae9e4e1"
      },
      "execution_count": null,
      "outputs": [
        {
          "output_type": "execute_result",
          "data": {
            "text/plain": [
              "-1"
            ]
          },
          "metadata": {},
          "execution_count": 4
        }
      ]
    },
    {
      "cell_type": "markdown",
      "source": [
        "\"i in range(3)\" is a for loop. this range returns a collection of numbers 0 through *n*, n being whatever number you put in the parentheses. so here the collection looks like [0, 1, 2] because arrays start at 0 in python. the *i* in the line means for each item in the collection, assign it to the variable *i* and then run the indented code block. the effect is simply that the coin gets called 3 times and each time the result is added to x. it can do this because x was defined outside of the loop. so for instance, three consecutive calls to a coin returned 1, -1, and -1. after the loop, *x* would have the value of 0 + 1 + (-1) + (-1), or 1. "
      ],
      "metadata": {
        "id": "scgfPWosGPcE"
      }
    },
    {
      "cell_type": "code",
      "source": [
        "x = 0 #again, setting x to 0 in a reset\n",
        "\n",
        "for i in range(3): \n",
        "    x = x + coin()"
      ],
      "metadata": {
        "id": "bQ3khwo8nSC5"
      },
      "execution_count": null,
      "outputs": []
    },
    {
      "cell_type": "code",
      "source": [
        "x"
      ],
      "metadata": {
        "id": "d7ABUR99nT6X",
        "colab": {
          "base_uri": "https://localhost:8080/"
        },
        "outputId": "f05da6f8-3206-4fb8-8fbe-81edf48b4866"
      },
      "execution_count": null,
      "outputs": [
        {
          "output_type": "execute_result",
          "data": {
            "text/plain": [
              "1"
            ]
          },
          "metadata": {},
          "execution_count": 6
        }
      ]
    },
    {
      "cell_type": "markdown",
      "source": [
        "This next block does the same thing as the previous, but with an array of {0-99} and runs it with 100 items/numbers. "
      ],
      "metadata": {
        "id": "uRgytc0SHa9c"
      }
    },
    {
      "cell_type": "code",
      "source": [
        "x = 0\n",
        "\n",
        "for i in range(100):\n",
        "    x = x + coin()"
      ],
      "metadata": {
        "id": "NFy-Myfefvq5"
      },
      "execution_count": null,
      "outputs": []
    },
    {
      "cell_type": "code",
      "source": [
        "x #the result of the 100 coin flips ended with -20. everytime you run it, it would get a different result"
      ],
      "metadata": {
        "colab": {
          "base_uri": "https://localhost:8080/"
        },
        "id": "sdOlgTxFfvs3",
        "outputId": "c310ddba-a534-4c44-9cc8-d3835acf8b09"
      },
      "execution_count": null,
      "outputs": [
        {
          "output_type": "execute_result",
          "data": {
            "text/plain": [
              "-14"
            ]
          },
          "metadata": {},
          "execution_count": 8
        }
      ]
    },
    {
      "cell_type": "markdown",
      "source": [
        "In the next block of code, we call in the zeros function from the numpy library. this calls an array of a given shape and type. arrays can be single or multi dimentional. single dimentional arrays means a flat collection of things like the range used earlier. we can think of this type of array as a shelf, then all the items are single items like a book, a trophy, and a pen. multidimentional arrays are like if the shelf had buckets and the buckets held items, a bucket of books, a bucket of pens, a bucket of trophies, etc. they are basically arrays nested inside of arrays. \n",
        "\n",
        "zeros accept a few arguments. the first is called a shape and we are setting it to M which has the value of 10,000. because its an integer, we end up with a single dimention array and in this case, we say give us an array with 10,000 slots and fill each slot with a 0, hence the name of the function. \n",
        "\n",
        "another thing about arrays is that they have indexes, like a card catalogue kind of. they typically start at 0 and have a max of the size of the array minus 1. if we have an array like $x - [1, 2, 3]$, then x[0] means that the element of the array at index 0. so x[0] is the element that holds the value 1 in this example and x[2] would be the value 3.\n",
        "\n",
        "for j in range(M), its the same as in range(i), just a new variable name. capital \"X\" holds the array of zeros. basically the tl;dr is we're building an array of coin flips.\n",
        "\n",
        "the outer loop is iterating over the numbers 0-9,999 assigning each one to j before running the block for each value of j, we set x to 0. then the inner loop is just running 100 coin flips and tallying them up to x. then after the loop funs, we call $X[j]=x$ which means we find the j index of X and assign it to the value of x (overwriting the initial value of 0 that the zeros function assigned)\n",
        "\n",
        "\n",
        "\n"
      ],
      "metadata": {
        "id": "a8mONWL9H7G5"
      }
    },
    {
      "cell_type": "code",
      "source": [
        "M = 10000 #defining M as ten thousand\n",
        "N = 100 #defining N as one hundred\n",
        "\n",
        "X = np.zeros(M,) #note the capital X as a variable\n",
        "\n",
        "for j in range(M):\n",
        "\n",
        "    x = 0\n",
        "\n",
        "    for i in range(N):\n",
        "        x = x + coin()\n",
        "\n",
        "    X[j] = x"
      ],
      "metadata": {
        "id": "uLXLzA03gabE"
      },
      "execution_count": null,
      "outputs": []
    },
    {
      "cell_type": "markdown",
      "source": [
        "at the end of both loops, we've collected 10,000 results of tossing a coin 100 times. the final step takes those results stores in X, and stores them to the hist function of the library we imported as plt in the first block of this lab. so this plots a distribution graph of the values held in X over 100 \"equal-width bins\"\n"
      ],
      "metadata": {
        "id": "z1ypdOn6PoxT"
      }
    },
    {
      "cell_type": "code",
      "source": [
        "plt.hist(X,100);"
      ],
      "metadata": {
        "colab": {
          "base_uri": "https://localhost:8080/",
          "height": 265
        },
        "id": "twqazgNcgOm1",
        "outputId": "95205b8e-a878-484d-aac2-1cc9a29583f0"
      },
      "execution_count": null,
      "outputs": [
        {
          "output_type": "display_data",
          "data": {
            "text/plain": [
              "<Figure size 432x288 with 1 Axes>"
            ],
            "image/png": "[encoded data removed]"
          },
          "metadata": {
            "needs_background": "light"
          }
        }
      ]
    },
    {
      "cell_type": "markdown",
      "source": [
        "# Bonus: Explain Pascal's Triangle"
      ],
      "metadata": {
        "id": "SJ_lgmvntUhi"
      }
    },
    {
      "cell_type": "code",
      "source": [
        "P = np.zeros((12,18)) #gives an array of zeros 12 up and 18 across\n",
        "P"
      ],
      "metadata": {
        "colab": {
          "base_uri": "https://localhost:8080/"
        },
        "id": "h9OtONxnXIrk",
        "outputId": "d716ac4b-4ade-49b9-dcd4-9aaaf3e1a9d6"
      },
      "execution_count": null,
      "outputs": [
        {
          "output_type": "execute_result",
          "data": {
            "text/plain": [
              "array([[0., 0., 0., 0., 0., 0., 0., 0., 0., 0., 0., 0., 0., 0., 0., 0.,\n",
              "        0., 0.],\n",
              "       [0., 0., 0., 0., 0., 0., 0., 0., 0., 0., 0., 0., 0., 0., 0., 0.,\n",
              "        0., 0.],\n",
              "       [0., 0., 0., 0., 0., 0., 0., 0., 0., 0., 0., 0., 0., 0., 0., 0.,\n",
              "        0., 0.],\n",
              "       [0., 0., 0., 0., 0., 0., 0., 0., 0., 0., 0., 0., 0., 0., 0., 0.,\n",
              "        0., 0.],\n",
              "       [0., 0., 0., 0., 0., 0., 0., 0., 0., 0., 0., 0., 0., 0., 0., 0.,\n",
              "        0., 0.],\n",
              "       [0., 0., 0., 0., 0., 0., 0., 0., 0., 0., 0., 0., 0., 0., 0., 0.,\n",
              "        0., 0.],\n",
              "       [0., 0., 0., 0., 0., 0., 0., 0., 0., 0., 0., 0., 0., 0., 0., 0.,\n",
              "        0., 0.],\n",
              "       [0., 0., 0., 0., 0., 0., 0., 0., 0., 0., 0., 0., 0., 0., 0., 0.,\n",
              "        0., 0.],\n",
              "       [0., 0., 0., 0., 0., 0., 0., 0., 0., 0., 0., 0., 0., 0., 0., 0.,\n",
              "        0., 0.],\n",
              "       [0., 0., 0., 0., 0., 0., 0., 0., 0., 0., 0., 0., 0., 0., 0., 0.,\n",
              "        0., 0.],\n",
              "       [0., 0., 0., 0., 0., 0., 0., 0., 0., 0., 0., 0., 0., 0., 0., 0.,\n",
              "        0., 0.],\n",
              "       [0., 0., 0., 0., 0., 0., 0., 0., 0., 0., 0., 0., 0., 0., 0., 0.,\n",
              "        0., 0.]])"
            ]
          },
          "metadata": {},
          "execution_count": 13
        }
      ]
    },
    {
      "cell_type": "code",
      "source": [
        "P[0,5] #go down 0 and across 5"
      ],
      "metadata": {
        "id": "rQmis2ufXTms",
        "colab": {
          "base_uri": "https://localhost:8080/"
        },
        "outputId": "14cc07b6-47e7-4935-d852-356244b97ef2"
      },
      "execution_count": null,
      "outputs": [
        {
          "output_type": "execute_result",
          "data": {
            "text/plain": [
              "0.0"
            ]
          },
          "metadata": {},
          "execution_count": 14
        }
      ]
    },
    {
      "cell_type": "code",
      "source": [
        "P[0,5]=1 #puts a one in the [0,5] spot\n",
        "P #print"
      ],
      "metadata": {
        "colab": {
          "base_uri": "https://localhost:8080/"
        },
        "id": "jM_0M2k_XchN",
        "outputId": "c109618b-a040-4d41-a7b9-6df779cc8b5e"
      },
      "execution_count": null,
      "outputs": [
        {
          "output_type": "execute_result",
          "data": {
            "text/plain": [
              "array([[0., 0., 0., 0., 0., 1., 0., 0., 0., 0., 0., 0., 0., 0., 0., 0.,\n",
              "        0., 0.],\n",
              "       [0., 0., 0., 0., 0., 0., 0., 0., 0., 0., 0., 0., 0., 0., 0., 0.,\n",
              "        0., 0.],\n",
              "       [0., 0., 0., 0., 0., 0., 0., 0., 0., 0., 0., 0., 0., 0., 0., 0.,\n",
              "        0., 0.],\n",
              "       [0., 0., 0., 0., 0., 0., 0., 0., 0., 0., 0., 0., 0., 0., 0., 0.,\n",
              "        0., 0.],\n",
              "       [0., 0., 0., 0., 0., 0., 0., 0., 0., 0., 0., 0., 0., 0., 0., 0.,\n",
              "        0., 0.],\n",
              "       [0., 0., 0., 0., 0., 0., 0., 0., 0., 0., 0., 0., 0., 0., 0., 0.,\n",
              "        0., 0.],\n",
              "       [0., 0., 0., 0., 0., 0., 0., 0., 0., 0., 0., 0., 0., 0., 0., 0.,\n",
              "        0., 0.],\n",
              "       [0., 0., 0., 0., 0., 0., 0., 0., 0., 0., 0., 0., 0., 0., 0., 0.,\n",
              "        0., 0.],\n",
              "       [0., 0., 0., 0., 0., 0., 0., 0., 0., 0., 0., 0., 0., 0., 0., 0.,\n",
              "        0., 0.],\n",
              "       [0., 0., 0., 0., 0., 0., 0., 0., 0., 0., 0., 0., 0., 0., 0., 0.,\n",
              "        0., 0.],\n",
              "       [0., 0., 0., 0., 0., 0., 0., 0., 0., 0., 0., 0., 0., 0., 0., 0.,\n",
              "        0., 0.],\n",
              "       [0., 0., 0., 0., 0., 0., 0., 0., 0., 0., 0., 0., 0., 0., 0., 0.,\n",
              "        0., 0.]])"
            ]
          },
          "metadata": {},
          "execution_count": 15
        }
      ]
    },
    {
      "cell_type": "markdown",
      "source": [
        "Assuming \"P\" is just for pascal; its giving a multidimentional grid and the 12 is how many units are in the height and 18 the width.\n",
        "\n",
        "\n",
        "for i in range$(1,P.shape[0]):$ gives the range of the height which starts at 1 goes to 11\n",
        "\n",
        "\n",
        "for j in range$(1,P.shape[1]-1):$ gives the width, but because P.shape[1] is the width (18), and we are subtracting 1, it gives us range 1 through 16 because ranges go up to but do not include the final number\n",
        "\n",
        "\n",
        "$P[i,j] = P[i-1,j-1]+P[i-1,j]$ says that at the beginning, we'll have i=1 and j=1. $P[i-1,j-1]$ means go to cell (0,0) and add it to the one that is cell (0,1)\n"
      ],
      "metadata": {
        "id": "l7_sz1A8ZpHA"
      }
    },
    {
      "cell_type": "code",
      "source": [
        "P = np.zeros((12,18)) \n",
        "P[0,5]=1\n",
        "\n",
        "for i in range(1,P.shape[0]): #rows 1\n",
        "\n",
        "    for j in range(1,P.shape[1]-1): #colums 5\n",
        "\n",
        "        P[i,j] = P[i-1,j-1]+P[i-1,j] #each cell (doing what you would do in pascals triangle. adding the rows and columns from a starting vaue)\n",
        "\n",
        "#       horizontal, vertical        \n",
        "#       start:end   start:end\n",
        "#       0    :0   , 5    :0   \n",
        "\n",
        "print(P[:,5:]) \n",
        "#no information until column 5 because \"P[0,5]=1\" set that unit to 1. because theres nothing valuable before column 5, we just see 13 columns since we trimmed off the colums with no data\n"
      ],
      "metadata": {
        "id": "ksVd5iqgfvu-",
        "colab": {
          "base_uri": "https://localhost:8080/"
        },
        "outputId": "f320d13b-476a-48eb-b4b1-02600f15f7d5"
      },
      "execution_count": null,
      "outputs": [
        {
          "output_type": "stream",
          "name": "stdout",
          "text": [
            "[[  1.   0.   0.   0.   0.   0.   0.   0.   0.   0.   0.   0.   0.]\n",
            " [  1.   1.   0.   0.   0.   0.   0.   0.   0.   0.   0.   0.   0.]\n",
            " [  1.   2.   1.   0.   0.   0.   0.   0.   0.   0.   0.   0.   0.]\n",
            " [  1.   3.   3.   1.   0.   0.   0.   0.   0.   0.   0.   0.   0.]\n",
            " [  1.   4.   6.   4.   1.   0.   0.   0.   0.   0.   0.   0.   0.]\n",
            " [  1.   5.  10.  10.   5.   1.   0.   0.   0.   0.   0.   0.   0.]\n",
            " [  1.   6.  15.  20.  15.   6.   1.   0.   0.   0.   0.   0.   0.]\n",
            " [  1.   7.  21.  35.  35.  21.   7.   1.   0.   0.   0.   0.   0.]\n",
            " [  1.   8.  28.  56.  70.  56.  28.   8.   1.   0.   0.   0.   0.]\n",
            " [  1.   9.  36.  84. 126. 126.  84.  36.   9.   1.   0.   0.   0.]\n",
            " [  1.  10.  45. 120. 210. 252. 210. 120.  45.  10.   1.   0.   0.]\n",
            " [  1.  11.  55. 165. 330. 462. 462. 330. 165.  55.  11.   1.   0.]]\n"
          ]
        }
      ]
    },
    {
      "cell_type": "code",
      "source": [
        "P.shape[0] #how many vertical"
      ],
      "metadata": {
        "colab": {
          "base_uri": "https://localhost:8080/"
        },
        "id": "bJGU5ARyXwCl",
        "outputId": "ea1d497c-fdd7-47f1-a32a-f158d6cae8be"
      },
      "execution_count": null,
      "outputs": [
        {
          "output_type": "execute_result",
          "data": {
            "text/plain": [
              "12"
            ]
          },
          "metadata": {},
          "execution_count": 17
        }
      ]
    },
    {
      "cell_type": "code",
      "source": [
        "P.shape[1] #how many horizontal"
      ],
      "metadata": {
        "colab": {
          "base_uri": "https://localhost:8080/"
        },
        "id": "BLD0Zu-aX0MS",
        "outputId": "bee65e9b-ea0a-4e62-f751-ae23556af915"
      },
      "execution_count": null,
      "outputs": [
        {
          "output_type": "execute_result",
          "data": {
            "text/plain": [
              "18"
            ]
          },
          "metadata": {},
          "execution_count": 18
        }
      ]
    },
    {
      "cell_type": "code",
      "source": [
        "P = np.zeros((12,18))\n",
        "\n",
        "for i in range(1,P.shape[0]): #p shape 0 is 12 and it will stop before that because its not included\n",
        "  print(i)\n"
      ],
      "metadata": {
        "colab": {
          "base_uri": "https://localhost:8080/"
        },
        "id": "onToXKR_YDLU",
        "outputId": "62445685-3732-4184-e48d-d193613ecace"
      },
      "execution_count": null,
      "outputs": [
        {
          "output_type": "stream",
          "name": "stdout",
          "text": [
            "1\n",
            "2\n",
            "3\n",
            "4\n",
            "5\n",
            "6\n",
            "7\n",
            "8\n",
            "9\n",
            "10\n",
            "11\n"
          ]
        }
      ]
    }
  ]
}